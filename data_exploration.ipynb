{
 "cells": [
  {
   "cell_type": "code",
   "execution_count": 1,
   "id": "4780608f-1ee9-42b5-8a3d-8c901e8a998c",
   "metadata": {},
   "outputs": [],
   "source": [
    "import nibabel as nib\n",
    "import numpy as np\n",
    "import os"
   ]
  },
  {
   "cell_type": "code",
   "execution_count": 2,
   "id": "79d476b4-c5f7-4454-a2ef-b56679b736c5",
   "metadata": {},
   "outputs": [],
   "source": [
    "split = 'ASNR-MICCAI-BraTS2023-GLI-Challenge-TrainingData'\n",
    "patient = 'BraTS-GLI-00000-000'\n",
    "base_path = os.path.join('data', split, patient)\n"
   ]
  },
  {
   "cell_type": "code",
   "execution_count": 3,
   "id": "f4a3bc49-d52e-4944-915b-9321fdd78576",
   "metadata": {},
   "outputs": [
    {
     "name": "stdout",
     "output_type": "stream",
     "text": [
      "(240, 240, 155) (240, 240, 155) (240, 240, 155) (240, 240, 155) (240, 240, 155)\n"
     ]
    }
   ],
   "source": [
    "t1_data = nib.load(os.path.join(base_path, \"BraTS-GLI-00000-000-t1n.nii.gz\")).get_fdata()\n",
    "t1ce_data = nib.load(os.path.join(base_path, \"BraTS-GLI-00000-000-t1c.nii.gz\")).get_fdata()\n",
    "t2_data = nib.load(os.path.join(base_path, \"BraTS-GLI-00000-000-t2w.nii.gz\")).get_fdata()\n",
    "flair_data = nib.load(os.path.join(base_path, \"BraTS-GLI-00000-000-t2f.nii.gz\")).get_fdata()\n",
    "segment = nib.load(os.path.join(base_path, \"BraTS-GLI-00000-000-seg.nii.gz\")).get_fdata()\n",
    "\n",
    "print(t1_data.shape, t1ce_data.shape, t2_data.shape, flair_data.shape, segment.shape)"
   ]
  },
  {
   "cell_type": "code",
   "execution_count": 4,
   "id": "80edd4a5-c127-4835-b227-412e5c7dce79",
   "metadata": {},
   "outputs": [
    {
     "name": "stdout",
     "output_type": "stream",
     "text": [
      "(4, 240, 240, 155)\n"
     ]
    }
   ],
   "source": [
    "mri_input = np.stack([t1_data, t1ce_data, t2_data, flair_data], axis=0)\n",
    "print(mri_input.shape)"
   ]
  },
  {
   "cell_type": "code",
   "execution_count": 5,
   "id": "d5b897fd-daee-413c-bc14-e2c794164736",
   "metadata": {},
   "outputs": [],
   "source": [
    "mri_input = (mri_input - mri_input.mean()) / mri_input.std()"
   ]
  }
 ],
 "metadata": {
  "kernelspec": {
   "display_name": "Python 3 (ipykernel)",
   "language": "python",
   "name": "python3"
  },
  "language_info": {
   "codemirror_mode": {
    "name": "ipython",
    "version": 3
   },
   "file_extension": ".py",
   "mimetype": "text/x-python",
   "name": "python",
   "nbconvert_exporter": "python",
   "pygments_lexer": "ipython3",
   "version": "3.10.12"
  }
 },
 "nbformat": 4,
 "nbformat_minor": 5
}
